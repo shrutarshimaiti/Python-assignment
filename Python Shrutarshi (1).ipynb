{
 "cells": [
  {
   "cell_type": "markdown",
   "id": "f64053ed-71b6-4122-8fc8-70eaeb77af0a",
   "metadata": {},
   "source": [
    "Q.1 Explain the key features of Python that make it a popular choice for programming.\n",
    "Answer- a)Python is a programming language that is easy to understand and write, making it a popular choice among developers and programmers. \n",
    "b)Python has a large and active community of developers, an extensive standard library, and third-party packages for various domains. \n",
    "\n",
    "Q2. Describe the role of predefined keywords in Python and provide examples of how they are used in a program.\n",
    " Answer-Keywords are reserved words in Python that have special meanings and cannot be used as identifiers.\n",
    " examples-if, else, while, for, def, class, import, try, except, return, True, False, None, etc.\n",
    " \n",
    "Q3. Compare and contrast mutable and immutable objects in Python with examples.\n",
    "Answer- Mutable object-Objects/container whose state or value can be changed after they are created are called as mutable objects or container list is a type of mutable object/supports item assignment."
   ]
  },
  {
   "cell_type": "code",
   "execution_count": 8,
   "id": "099adf7a-af25-40ed-a249-f85dd6236629",
   "metadata": {},
   "outputs": [
    {
     "data": {
      "text/plain": [
       "[3, 2, 4, 6, 'Shrutarshi', 'Kolkata']"
      ]
     },
     "execution_count": 8,
     "metadata": {},
     "output_type": "execute_result"
    }
   ],
   "source": [
    "#example-\n",
    "list_cont= [3,2,4,6,\"Shrutarshi\",\"Kolkata\"]\n",
    "list_cont"
   ]
  },
  {
   "cell_type": "code",
   "execution_count": 14,
   "id": "986f2644-17ec-49c9-b2a2-63b3aee1bf5e",
   "metadata": {},
   "outputs": [
    {
     "data": {
      "text/plain": [
       "[3, 'Australia', 4, 6, 'Shrutarshi', 'Kolkata']"
      ]
     },
     "execution_count": 14,
     "metadata": {},
     "output_type": "execute_result"
    }
   ],
   "source": [
    "list_cont[1]=\"Australia\"\n",
    "list_cont"
   ]
  },
  {
   "cell_type": "markdown",
   "id": "fad52f52-b8b6-4581-8bdd-bbd5db9bdea1",
   "metadata": {},
   "source": [
    "Immutable objects-Objects/container whose state or value can not be changed after they are created are called as immutable objects or container, \n",
    "string is a type of immutable object.\n",
    "\n"
   ]
  },
  {
   "cell_type": "code",
   "execution_count": 17,
   "id": "b084ad3f-ab03-4fe0-9aea-fca3cf7e2a9e",
   "metadata": {},
   "outputs": [
    {
     "ename": "TypeError",
     "evalue": "'str' object does not support item assignment",
     "output_type": "error",
     "traceback": [
      "\u001b[0;31m---------------------------------------------------------------------------\u001b[0m",
      "\u001b[0;31mTypeError\u001b[0m                                 Traceback (most recent call last)",
      "Cell \u001b[0;32mIn[17], line 3\u001b[0m\n\u001b[1;32m      1\u001b[0m \u001b[38;5;66;03m#example\u001b[39;00m\n\u001b[1;32m      2\u001b[0m a\u001b[38;5;241m=\u001b[39m \u001b[38;5;124m\"\u001b[39m\u001b[38;5;124mShrutarhi\u001b[39m\u001b[38;5;124m\"\u001b[39m\n\u001b[0;32m----> 3\u001b[0m \u001b[43ma\u001b[49m\u001b[43m[\u001b[49m\u001b[38;5;241;43m0\u001b[39;49m\u001b[43m]\u001b[49m\u001b[38;5;241m=\u001b[39m \u001b[38;5;124m\"\u001b[39m\u001b[38;5;124mZ\u001b[39m\u001b[38;5;124m\"\u001b[39m\n",
      "\u001b[0;31mTypeError\u001b[0m: 'str' object does not support item assignment"
     ]
    }
   ],
   "source": [
    "#example\n",
    "a= \"Shrutarhi\"\n",
    "a[0]= \"Z\""
   ]
  },
  {
   "cell_type": "markdown",
   "id": "88d87bd3-0680-407a-94fe-0f5b4c5f576a",
   "metadata": {},
   "source": [
    "Q4. Discuss the. different types of operators in Python and provide examples of how they are used.\n",
    "Answer-a)Operators are special symbols or keywords that are used to carry out specific actions on numbers or variables in Python expressions. \n",
    "b)Various types of operators are used in Python which include arithmetic operators (+, -, *, /), comparison operators (==, !=, <, >), logical operators (and, or, not), assignment operators (=, +=, -=, *=, /=), etc."
   ]
  },
  {
   "cell_type": "code",
   "execution_count": 18,
   "id": "7879c07e-17b7-4efe-9ea5-58f0545c6792",
   "metadata": {},
   "outputs": [
    {
     "data": {
      "text/plain": [
       "0"
      ]
     },
     "execution_count": 18,
     "metadata": {},
     "output_type": "execute_result"
    }
   ],
   "source": [
    "#examples\n",
    "3+2-5"
   ]
  },
  {
   "cell_type": "markdown",
   "id": "8c780edc-7c9f-46ba-a6c6-6d87bd24f1e1",
   "metadata": {},
   "source": [
    "Q5.Explain the concept of type casting in Python with examples.\n",
    "Answer-a)Type casting, also referred to as type conversion, is the process of changing one data type to another in Python.\n",
    "b)Type casting is often necessary for performing arithmetic operations, data manipulation, and input/output operations in Python programs."
   ]
  },
  {
   "cell_type": "code",
   "execution_count": 19,
   "id": "bab07f2c-e76b-4af6-b383-b98e1a1e754c",
   "metadata": {},
   "outputs": [
    {
     "data": {
      "text/plain": [
       "5.8"
      ]
     },
     "execution_count": 19,
     "metadata": {},
     "output_type": "execute_result"
    }
   ],
   "source": [
    "#example\n",
    "#string to float\n",
    "a=\"5.8\"\n",
    "float(a)\n"
   ]
  },
  {
   "cell_type": "code",
   "execution_count": 20,
   "id": "05ce1788-e9be-484d-827e-8e871ed4aa00",
   "metadata": {},
   "outputs": [
    {
     "data": {
      "text/plain": [
       "'5'"
      ]
     },
     "execution_count": 20,
     "metadata": {},
     "output_type": "execute_result"
    }
   ],
   "source": [
    "#integer to string\n",
    "a=5\n",
    "str(a)"
   ]
  },
  {
   "cell_type": "markdown",
   "id": "c8624f2f-b567-4edb-92fe-eda10a8539b0",
   "metadata": {},
   "source": [
    "Q6. How do conditional statements work in Python? Illustrate with examples.\n",
    "a)Conditionals in Python are used to execute code based on the evaluation of one or more conditions.\n",
    "b)Python supports conditional statements such as if, elif (else if), and else to control the flow of execution.\n",
    "c)Conditionals can be nested to handle multiple conditions and control different branches of execution based on the outcome of logical expressions."
   ]
  },
  {
   "cell_type": "code",
   "execution_count": 21,
   "id": "caeb05c6-c720-464f-be56-69f2020a2e8a",
   "metadata": {},
   "outputs": [
    {
     "name": "stdout",
     "output_type": "stream",
     "text": [
      "pleasant temp\n"
     ]
    }
   ],
   "source": [
    "#example\n",
    "temp = 30\n",
    "if temp>25:\n",
    "    print(\"pleasant temp\")"
   ]
  },
  {
   "cell_type": "code",
   "execution_count": 22,
   "id": "f007fb28-4f10-46a0-a672-8c3780d46d38",
   "metadata": {},
   "outputs": [
    {
     "name": "stdout",
     "output_type": "stream",
     "text": [
      "You are topper\n"
     ]
    }
   ],
   "source": [
    "grade = 9\n",
    "if grade >=9:\n",
    "    print(\"You are topper\")"
   ]
  },
  {
   "cell_type": "markdown",
   "id": "09c58c2c-311c-482a-b57b-31c64df80c60",
   "metadata": {},
   "source": [
    "Q7.Describe the different types of loops in Python and their use cases with examples.\n",
    "a)In Python, loops are employed to repeat a sequence of actions or code until a specific condition is fulfilled. \n",
    "Python offers two primary types of loops: for loops and while loops. \n",
    "“for” loops are used for iterating over a sequence of elements, while “while” loops are used for executing code until a specified condition becomes False."
   ]
  },
  {
   "cell_type": "code",
   "execution_count": 27,
   "id": "3ce27824-3663-4a24-a065-0601dd9f55b5",
   "metadata": {},
   "outputs": [
    {
     "name": "stdout",
     "output_type": "stream",
     "text": [
      "1\n",
      "2\n",
      "3\n",
      "4\n",
      "5\n",
      "6\n",
      "7\n",
      "8\n",
      "This will be executed when the while is run successfuly without any break\n"
     ]
    }
   ],
   "source": [
    "#example 1\n",
    "#break terminates/exits the loop\n",
    "n = 9\n",
    "i = 1\n",
    "while i < n:\n",
    "    print(i)\n",
    "    i = i+1\n",
    "    if i == 1:\n",
    "        break\n",
    "else:\n",
    "    print(\"This will be executed when the while is run successfuly without any break\")"
   ]
  },
  {
   "cell_type": "code",
   "execution_count": 25,
   "id": "a68adeb4-49dd-4935-82da-53f4530a392f",
   "metadata": {},
   "outputs": [
    {
     "name": "stdout",
     "output_type": "stream",
     "text": [
      "2\n",
      "4\n",
      "5\n",
      "6\n",
      "7\n",
      "This will be executed when the while is run successfuly without any break\n"
     ]
    }
   ],
   "source": [
    "#example 2\n",
    "#continue >> skips the iteration\n",
    "\n",
    "n = 7\n",
    "i = 1\n",
    "while i < n:\n",
    "    i = i+1\n",
    "    if i == 3:\n",
    "        continue\n",
    "    print(i)\n",
    "else:\n",
    "    print(\"This will be executed when the while is run successfuly without any break\")"
   ]
  },
  {
   "cell_type": "code",
   "execution_count": 28,
   "id": "1d06173f-5c1d-4eaf-9005-b03be9489deb",
   "metadata": {},
   "outputs": [
    {
     "name": "stdout",
     "output_type": "stream",
     "text": [
      "S\n",
      "h\n",
      "r\n",
      "u\n",
      "t\n",
      "a\n",
      "r\n",
      "s\n",
      "h\n",
      "i\n"
     ]
    }
   ],
   "source": [
    "#example 3\n",
    "#for loops >>iterate over a sequence of elements >> strings, list\n",
    "for i in \"Shrutarshi\":\n",
    "    print(i)"
   ]
  },
  {
   "cell_type": "code",
   "execution_count": 33,
   "id": "f937f5da-2b46-4c96-a08c-0947b0686beb",
   "metadata": {},
   "outputs": [
    {
     "data": {
      "text/plain": [
       "[0, 10, 20, 30, 40, 50, 60, 70, 80, 90]"
      ]
     },
     "execution_count": 33,
     "metadata": {},
     "output_type": "execute_result"
    }
   ],
   "source": [
    "#example 4\n",
    "#syntax of range(start, stop, step)\n",
    "#list(range(0, 100, 10))"
   ]
  },
  {
   "cell_type": "code",
   "execution_count": 37,
   "id": "f3451025-040d-40cd-b503-c1255be3aca1",
   "metadata": {},
   "outputs": [
    {
     "name": "stdout",
     "output_type": "stream",
     "text": [
      "1\n",
      "2\n",
      "3\n",
      "5\n",
      "6\n",
      "7\n",
      "8\n",
      "9\n",
      "10\n",
      "11\n"
     ]
    }
   ],
   "source": [
    "#example 5\n",
    "#conditionals with for loops\n",
    "number = [1, 2, 3, 4, 5, 6, 7, 8, 9,10,11,12]\n",
    "for num in number:\n",
    "    if (num == 4) or (num == 12):\n",
    "        continue\n",
    "    print(num)"
   ]
  },
  {
   "cell_type": "code",
   "execution_count": null,
   "id": "75166257-5f96-49cb-8858-69200b6ea277",
   "metadata": {},
   "outputs": [],
   "source": []
  }
 ],
 "metadata": {
  "kernelspec": {
   "display_name": "Python 3 (ipykernel)",
   "language": "python",
   "name": "python3"
  },
  "language_info": {
   "codemirror_mode": {
    "name": "ipython",
    "version": 3
   },
   "file_extension": ".py",
   "mimetype": "text/x-python",
   "name": "python",
   "nbconvert_exporter": "python",
   "pygments_lexer": "ipython3",
   "version": "3.10.8"
  }
 },
 "nbformat": 4,
 "nbformat_minor": 5
}
